{
  "nbformat": 4,
  "nbformat_minor": 0,
  "metadata": {
    "colab": {
      "name": "IntroToNumpArrays.ipynb",
      "provenance": [],
      "authorship_tag": "ABX9TyPcmz3AE1xu7brvvP5BO0hL",
      "include_colab_link": true
    },
    "kernelspec": {
      "name": "python3",
      "display_name": "Python 3"
    },
    "language_info": {
      "name": "python"
    }
  },
  "cells": [
    {
      "cell_type": "markdown",
      "metadata": {
        "id": "view-in-github",
        "colab_type": "text"
      },
      "source": [
        "<a href=\"https://colab.research.google.com/github/vjbarayuga/IntroToNumpyArray/blob/main/IntroToNumpArrays.ipynb\" target=\"_parent\"><img src=\"https://colab.research.google.com/assets/colab-badge.svg\" alt=\"Open In Colab\"/></a>"
      ]
    },
    {
      "cell_type": "code",
      "execution_count": 1,
      "metadata": {
        "id": "wYMRJHksxVhY",
        "colab": {
          "base_uri": "https://localhost:8080/"
        },
        "outputId": "51b37c5f-1fb0-4621-febd-a5b9caaec485"
      },
      "outputs": [
        {
          "output_type": "execute_result",
          "data": {
            "text/plain": [
              "list"
            ]
          },
          "metadata": {},
          "execution_count": 1
        }
      ],
      "source": [
        "price = [2, 1, 10]\n",
        "type(price)"
      ]
    }
  ]
}